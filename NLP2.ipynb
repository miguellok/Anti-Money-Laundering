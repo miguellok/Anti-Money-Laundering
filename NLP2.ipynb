{
 "cells": [
  {
   "cell_type": "code",
   "execution_count": 1,
   "metadata": {},
   "outputs": [],
   "source": [
    "# 來源: Python機器學習與深度學習特訓班,文淵閣工作室, 碁峯出版"
   ]
  },
  {
   "cell_type": "code",
   "execution_count": 2,
   "metadata": {},
   "outputs": [],
   "source": [
    "import requests\n",
    "from bs4 import BeautifulSoup as soup\n",
    "from PIL import Image\n",
    "import matplotlib.pyplot as plt\n",
    "from wordcloud import WordCloud\n",
    "import jieba\n",
    "import numpy as np\n",
    "from collections import Counter"
   ]
  },
  {
   "cell_type": "code",
   "execution_count": 3,
   "metadata": {},
   "outputs": [],
   "source": [
    "urls = []\n",
    "url = 'https://udn.com/news/breaknews/1'\n",
    "html = requests.get(url)\n",
    "# 將網頁的HTML程式碼取回來後，接著引用BeautifulSoup類別(Class)，\n",
    "# 傳入取回的HTML結構字串，並且指定HTML的解析型態來建立其物件\n",
    "sp = soup(html.text, 'html.parser')\n",
    "#data1 = sp.select('#breaknews_body dl dt h2 a')\n",
    "# 單純只想要透過css屬性值來進行HTML節點的搜尋\n",
    "data1 = sp.select(\"#breaknews div div div a\")"
   ]
  },
  {
   "cell_type": "code",
   "execution_count": 4,
   "metadata": {},
   "outputs": [
    {
     "data": {
      "text/plain": [
       "[<a aria-label=\"新冠肺炎全球確診逾6754萬例 超過154萬人病亡\" class=\"story-list__image--holder\" href=\"/news/story/120944/5076871?from=udn-ch1_breaknews-1-0-news\"><picture><source data-srcset=\"https://pgw.udn.com.tw/gw/photo.php?u=https://uc.udn.com.tw/photo/wj/paper/2020/11/29/9161270.jpg&amp;s=Y&amp;x=0&amp;y=0&amp;sw=1279&amp;sh=853&amp;exp=3600&amp;w=300&amp;nt=1\" type=\"image/webp\"/><source data-srcset=\"https://pgw.udn.com.tw/gw/photo.php?u=https://uc.udn.com.tw/photo/wj/paper/2020/11/29/9161270.jpg&amp;s=Y&amp;x=0&amp;y=0&amp;sw=1279&amp;sh=853&amp;exp=3600&amp;w=300\" type=\"image/jpeg\"/><img alt=\"\" class=\"lazyload\" data-src=\"https://pgw.udn.com.tw/gw/photo.php?u=https://uc.udn.com.tw/photo/wj/paper/2020/11/29/9161270.jpg&amp;s=Y&amp;x=0&amp;y=0&amp;sw=1279&amp;sh=853&amp;exp=3600&amp;w=300\"/></picture></a>,\n",
       " <a href=\"/news/story/120944/5076871?from=udn-ch1_breaknews-1-0-news\" title=\"新冠肺炎全球確診逾6754萬例 超過154萬人病亡\">新冠肺炎全球確診逾6754萬例 超過154萬人病亡</a>,\n",
       " <a href=\"/news/story/120944/5076871?from=udn-ch1_breaknews-1-0-news\">法新社彙整官方數據顯示，截至格林威治標準時間8日11時（台灣8日晚間7時），全球至少154萬5320人死於2019冠狀病...</a>,\n",
       " <a aria-label=\"14歲少年國民運動中心內被逼口交 體育處：加強巡邏\" class=\"story-list__image--holder\" href=\"/news/story/7320/5076877?from=udn-ch1_breaknews-1-0-news\"><picture><source data-srcset=\"https://pgw.udn.com.tw/gw/photo.php?u=https://uc.udn.com.tw/photo/2020/12/08/realtime/9216045.jpg&amp;s=Y&amp;x=0&amp;y=9&amp;sw=1279&amp;sh=852&amp;exp=3600&amp;w=300&amp;nt=1\" type=\"image/webp\"/><source data-srcset=\"https://pgw.udn.com.tw/gw/photo.php?u=https://uc.udn.com.tw/photo/2020/12/08/realtime/9216045.jpg&amp;s=Y&amp;x=0&amp;y=9&amp;sw=1279&amp;sh=852&amp;exp=3600&amp;w=300\" type=\"image/jpeg\"/><img alt=\"\" class=\"lazyload\" data-src=\"https://pgw.udn.com.tw/gw/photo.php?u=https://uc.udn.com.tw/photo/2020/12/08/realtime/9216045.jpg&amp;s=Y&amp;x=0&amp;y=9&amp;sw=1279&amp;sh=852&amp;exp=3600&amp;w=300\"/></picture></a>,\n",
       " <a href=\"/news/story/7320/5076877?from=udn-ch1_breaknews-1-0-news\" title=\"14歲少年國民運動中心內被逼口交 體育處：加強巡邏\">14歲少年國民運動中心內被逼口交 體育處：加強巡邏</a>,\n",
       " <a href=\"/news/story/7320/5076877?from=udn-ch1_breaknews-1-0-news\">新北市一名14歲少年日前在三重國民運動中心淋浴間遭一名柯姓男子強迫替其口交，事後柯男遭依強制性交罪嫌起訴。新北市體育處表...</a>,\n",
       " <a aria-label=\"印尼期中試驗數據顯示 中國疫苗效力高達97%\" class=\"story-list__image--holder\" href=\"/news/story/120944/5076861?from=udn-ch1_breaknews-1-0-news\"><picture><source data-srcset=\"https://pgw.udn.com.tw/gw/photo.php?u=https://uc.udn.com.tw/photo/2020/12/05/98/9196980.jpg&amp;x=&amp;y=&amp;sw=&amp;sh=&amp;exp=3600&amp;w=300&amp;nt=1\" type=\"image/webp\"/><source data-srcset=\"https://pgw.udn.com.tw/gw/photo.php?u=https://uc.udn.com.tw/photo/2020/12/05/98/9196980.jpg&amp;x=&amp;y=&amp;sw=&amp;sh=&amp;exp=3600&amp;w=300\" type=\"image/jpeg\"/><img alt=\"\" class=\"lazyload\" data-src=\"https://pgw.udn.com.tw/gw/photo.php?u=https://uc.udn.com.tw/photo/2020/12/05/98/9196980.jpg&amp;x=&amp;y=&amp;sw=&amp;sh=&amp;exp=3600&amp;w=300\"/></picture></a>,\n",
       " <a href=\"/news/story/120944/5076861?from=udn-ch1_breaknews-1-0-news\" title=\"印尼期中試驗數據顯示 中國疫苗效力高達97%\">印尼期中試驗數據顯示 中國疫苗效力高達97%</a>,\n",
       " <a href=\"/news/story/120944/5076861?from=udn-ch1_breaknews-1-0-news\">印尼國營生物藥劑公司Bio Farma今天表示，正對中國科興控股生物技術公司（Sinovac Biotech）製造的疫苗...</a>,\n",
       " <a aria-label=\"一期稻作停灌範圍是否擴大 旱災應變中心9日討論\" class=\"story-list__image--holder\" href=\"/news/story/7266/5076832?from=udn-ch1_breaknews-1-0-news\"><picture><source data-srcset=\"https://pgw.udn.com.tw/gw/photo.php?u=https://uc.udn.com.tw/photo/2020/12/08/98/9216032.jpg&amp;s=Y&amp;x=0&amp;y=44&amp;sw=1279&amp;sh=853&amp;exp=3600&amp;w=300&amp;nt=1\" type=\"image/webp\"/><source data-srcset=\"https://pgw.udn.com.tw/gw/photo.php?u=https://uc.udn.com.tw/photo/2020/12/08/98/9216032.jpg&amp;s=Y&amp;x=0&amp;y=44&amp;sw=1279&amp;sh=853&amp;exp=3600&amp;w=300\" type=\"image/jpeg\"/><img alt=\"\" class=\"lazyload\" data-src=\"https://pgw.udn.com.tw/gw/photo.php?u=https://uc.udn.com.tw/photo/2020/12/08/98/9216032.jpg&amp;s=Y&amp;x=0&amp;y=44&amp;sw=1279&amp;sh=853&amp;exp=3600&amp;w=300\"/></picture></a>,\n",
       " <a href=\"/news/story/7266/5076832?from=udn-ch1_breaknews-1-0-news\" title=\"一期稻作停灌範圍是否擴大 旱災應變中心9日討論\">一期稻作停灌範圍是否擴大 旱災應變中心9日討論</a>,\n",
       " <a href=\"/news/story/7266/5076832?from=udn-ch1_breaknews-1-0-news\">近日東北季風帶來降雨，挹注北部水庫，不過中南部水情仍吃緊。旱災中央災害應變中心明天將舉行第四次工作會報，水利署表示，會中...</a>,\n",
       " <a aria-label=\"質詢遭歪樓成反打房 費鴻泰：是打總統府黑手伸進央行\" class=\"story-list__image--holder\" href=\"/news/story/6656/5076872?from=udn-ch1_breaknews-1-0-news\"><picture><source data-srcset=\"https://pgw.udn.com.tw/gw/photo.php?u=https://uc.udn.com.tw/photo/2020/03/31/realtime/7670296.jpg&amp;s=Y&amp;x=0&amp;y=6&amp;sw=929&amp;sh=618&amp;exp=3600&amp;w=300&amp;nt=1\" type=\"image/webp\"/><source data-srcset=\"https://pgw.udn.com.tw/gw/photo.php?u=https://uc.udn.com.tw/photo/2020/03/31/realtime/7670296.jpg&amp;s=Y&amp;x=0&amp;y=6&amp;sw=929&amp;sh=618&amp;exp=3600&amp;w=300\" type=\"image/jpeg\"/><img alt=\"\" class=\"lazyload\" data-src=\"https://pgw.udn.com.tw/gw/photo.php?u=https://uc.udn.com.tw/photo/2020/03/31/realtime/7670296.jpg&amp;s=Y&amp;x=0&amp;y=6&amp;sw=929&amp;sh=618&amp;exp=3600&amp;w=300\"/></picture></a>,\n",
       " <a href=\"/news/story/6656/5076872?from=udn-ch1_breaknews-1-0-news\" title=\"質詢遭歪樓成反打房 費鴻泰：是打總統府黑手伸進央行\">質詢遭歪樓成反打房 費鴻泰：是打總統府黑手伸進央行</a>,\n",
       " <a href=\"/news/story/6656/5076872?from=udn-ch1_breaknews-1-0-news\">中央銀行昨祭出4大打炒房措施，國民黨立委費鴻泰今在立院質疑，央行總裁楊金龍急什麼，遭批反打房，反而是總統府發新聞稿回擊，...</a>,\n",
       " <a aria-label=\"瑞芳猴硐坍方段十年前致災卻列穩定邊坡？ 台鐵曝原因\" class=\"story-list__image--holder\" href=\"/news/story/121837/5076867?from=udn-ch1_breaknews-1-0-news\"><picture><source data-srcset=\"https://pgw.udn.com.tw/gw/photo.php?u=https://uc.udn.com.tw/photo/2020/12/08/realtime/9216031.jpg&amp;s=Y&amp;x=0&amp;y=5&amp;sw=798&amp;sh=532&amp;exp=3600&amp;w=300&amp;nt=1\" type=\"image/webp\"/><source data-srcset=\"https://pgw.udn.com.tw/gw/photo.php?u=https://uc.udn.com.tw/photo/2020/12/08/realtime/9216031.jpg&amp;s=Y&amp;x=0&amp;y=5&amp;sw=798&amp;sh=532&amp;exp=3600&amp;w=300\" type=\"image/jpeg\"/><img alt=\"\" class=\"lazyload\" data-src=\"https://pgw.udn.com.tw/gw/photo.php?u=https://uc.udn.com.tw/photo/2020/12/08/realtime/9216031.jpg&amp;s=Y&amp;x=0&amp;y=5&amp;sw=798&amp;sh=532&amp;exp=3600&amp;w=300\"/></picture></a>,\n",
       " <a href=\"/news/story/121837/5076867?from=udn-ch1_breaknews-1-0-news\" title=\"瑞芳猴硐坍方段十年前致災卻列穩定邊坡？ 台鐵曝原因\">瑞芳猴硐坍方段十年前致災卻列穩定邊坡？ 台鐵曝原因</a>,\n",
       " <a href=\"/news/story/121837/5076867?from=udn-ch1_breaknews-1-0-news\">台鐵瑞芳-猴硐間12公里+233公尺處4日因連日大雨邊坡坍方造成路線中斷，現場迄今持續進行搶修中。本報今天揭露，該處10...</a>,\n",
       " <a aria-label=\"大雄撞見「靜香洗澡」是犯罪行為！日網友發起連署要求刪除\" class=\"story-list__image--holder\" href=\"/news/story/6812/5076844?from=udn-ch1_breaknews-1-0-news\"><picture><source data-srcset=\"https://pgw.udn.com.tw/gw/photo.php?u=https://uc.udn.com.tw/photo/2020/12/08/1/9215998.jpg&amp;s=Y&amp;x=0&amp;y=0&amp;sw=595&amp;sh=397&amp;exp=3600&amp;w=300&amp;nt=1\" type=\"image/webp\"/><source data-srcset=\"https://pgw.udn.com.tw/gw/photo.php?u=https://uc.udn.com.tw/photo/2020/12/08/1/9215998.jpg&amp;s=Y&amp;x=0&amp;y=0&amp;sw=595&amp;sh=397&amp;exp=3600&amp;w=300\" type=\"image/jpeg\"/><img alt=\"\" class=\"lazyload\" data-src=\"https://pgw.udn.com.tw/gw/photo.php?u=https://uc.udn.com.tw/photo/2020/12/08/1/9215998.jpg&amp;s=Y&amp;x=0&amp;y=0&amp;sw=595&amp;sh=397&amp;exp=3600&amp;w=300\"/></picture></a>,\n",
       " <a href=\"/news/story/6812/5076844?from=udn-ch1_breaknews-1-0-news\" title=\"大雄撞見「靜香洗澡」是犯罪行為！日網友發起連署要求刪除\">大雄撞見「靜香洗澡」是犯罪行為！日網友發起連署要求刪除</a>,\n",
       " <a href=\"/news/story/6812/5076844?from=udn-ch1_breaknews-1-0-news\">許多人從小看日本動畫《哆啦A夢》長大，或許對其中一個情節很熟悉，就是大雄偶爾會誤闖靜香的浴室，撞見她在洗澡。如今有日本網友發起連署，要求電視台刪除相關畫面...</a>,\n",
       " <a aria-label=\"教育部要用108課綱提升科學興趣 準備好了嗎？\" class=\"story-list__image--holder\" href=\"/news/story/6885/5076866?from=udn-ch1_breaknews-1-0-news\"><picture><source data-srcset=\"https://pgw.udn.com.tw/gw/photo.php?u=https://uc.udn.com.tw/photo/2020/12/08/realtime/9216030.jpg&amp;s=Y&amp;x=0&amp;y=0&amp;sw=799&amp;sh=532&amp;exp=3600&amp;w=300&amp;nt=1\" type=\"image/webp\"/><source data-srcset=\"https://pgw.udn.com.tw/gw/photo.php?u=https://uc.udn.com.tw/photo/2020/12/08/realtime/9216030.jpg&amp;s=Y&amp;x=0&amp;y=0&amp;sw=799&amp;sh=532&amp;exp=3600&amp;w=300\" type=\"image/jpeg\"/><img alt=\"\" class=\"lazyload\" data-src=\"https://pgw.udn.com.tw/gw/photo.php?u=https://uc.udn.com.tw/photo/2020/12/08/realtime/9216030.jpg&amp;s=Y&amp;x=0&amp;y=0&amp;sw=799&amp;sh=532&amp;exp=3600&amp;w=300\"/></picture></a>,\n",
       " <a href=\"/news/story/6885/5076866?from=udn-ch1_breaknews-1-0-news\" title=\"教育部要用108課綱提升科學興趣 準備好了嗎？\">教育部要用108課綱提升科學興趣 準備好了嗎？</a>,\n",
       " <a href=\"/news/story/6885/5076866?from=udn-ch1_breaknews-1-0-news\">教育部今天傍晚公布國際數學與科學教育成就趨勢調查，我國八年級（國二）生科學排名國際第二，不過學生科學應用、推理能力，明顯...</a>,\n",
       " <a aria-label=\"網球／年度最佳運動員 大坂直美入選\" class=\"story-list__image--holder\" href=\"/news/story/7002/5076865?from=udn-ch1_breaknews-1-0-news\"><picture><source data-srcset=\"https://pgw.udn.com.tw/gw/photo.php?u=https://uc.udn.com.tw/photo/2020/09/13/1/8531702.jpg&amp;s=Y&amp;x=0&amp;y=0&amp;sw=1000&amp;sh=667&amp;exp=3600&amp;w=300&amp;nt=1\" type=\"image/webp\"/><source data-srcset=\"https://pgw.udn.com.tw/gw/photo.php?u=https://uc.udn.com.tw/photo/2020/09/13/1/8531702.jpg&amp;s=Y&amp;x=0&amp;y=0&amp;sw=1000&amp;sh=667&amp;exp=3600&amp;w=300\" type=\"image/jpeg\"/><img alt=\"\" class=\"lazyload\" data-src=\"https://pgw.udn.com.tw/gw/photo.php?u=https://uc.udn.com.tw/photo/2020/09/13/1/8531702.jpg&amp;s=Y&amp;x=0&amp;y=0&amp;sw=1000&amp;sh=667&amp;exp=3600&amp;w=300\"/></picture></a>,\n",
       " <a href=\"/news/story/7002/5076865?from=udn-ch1_breaknews-1-0-news\" title=\"網球／年度最佳運動員 大坂直美入選\">網球／年度最佳運動員 大坂直美入選</a>,\n",
       " <a href=\"/news/story/7002/5076865?from=udn-ch1_breaknews-1-0-news\">美國知名運動周刊《運動畫刊（Sports Illustrated）》昨天公布年度年度最佳運動員，包括湖人隊「小皇帝」詹姆...</a>,\n",
       " <a aria-label=\"板橋「逸馨園茶坊」占共有地 二審改判只需拆19坪\" class=\"story-list__image--holder\" href=\"/news/story/7321/5076864?from=udn-ch1_breaknews-1-0-news\"><picture><source data-srcset=\"https://pgw.udn.com.tw/gw/photo.php?u=https://uc.udn.com.tw/photo/2020/12/08/realtime/9216028.jpg&amp;s=Y&amp;x=0&amp;y=7&amp;sw=967&amp;sh=644&amp;exp=3600&amp;w=300&amp;nt=1\" type=\"image/webp\"/><source data-srcset=\"https://pgw.udn.com.tw/gw/photo.php?u=https://uc.udn.com.tw/photo/2020/12/08/realtime/9216028.jpg&amp;s=Y&amp;x=0&amp;y=7&amp;sw=967&amp;sh=644&amp;exp=3600&amp;w=300\" type=\"image/jpeg\"/><img alt=\"\" class=\"lazyload\" data-src=\"https://pgw.udn.com.tw/gw/photo.php?u=https://uc.udn.com.tw/photo/2020/12/08/realtime/9216028.jpg&amp;s=Y&amp;x=0&amp;y=7&amp;sw=967&amp;sh=644&amp;exp=3600&amp;w=300\"/></picture></a>,\n",
       " <a href=\"/news/story/7321/5076864?from=udn-ch1_breaknews-1-0-news\" title=\"板橋「逸馨園茶坊」占共有地 二審改判只需拆19坪\">板橋「逸馨園茶坊」占共有地 二審改判只需拆19坪</a>,\n",
       " <a href=\"/news/story/7321/5076864?from=udn-ch1_breaknews-1-0-news\">位於板橋南雅夜市的逸馨園茶坊遭控未經同意占用共有地興建建物，被土地共有人之一的三邦實業公司提告，要求拆屋還地，一審判三邦...</a>,\n",
       " <a aria-label=\"影／台南歸仁雜草野火！焦臭飄高雄  兩市環保合作\" class=\"story-list__image--holder\" href=\"/news/story/7320/5076859?from=udn-ch1_breaknews-1-0-news\"><picture><source data-srcset=\"https://pgw.udn.com.tw/gw/photo.php?u=https://p.udn.com.tw/upf/2017_news/noimg_cid6639_3.jpg&amp;w=300&amp;nt=1\" type=\"image/webp\"/><source data-srcset=\"https://pgw.udn.com.tw/gw/photo.php?u=https://p.udn.com.tw/upf/2017_news/noimg_cid6639_3.jpg&amp;w=300\" type=\"image/jpeg\"/><img alt=\"\" class=\"lazyload\" data-src=\"https://pgw.udn.com.tw/gw/photo.php?u=https://p.udn.com.tw/upf/2017_news/noimg_cid6639_3.jpg&amp;w=300\"/></picture></a>,\n",
       " <a href=\"/news/story/7320/5076859?from=udn-ch1_breaknews-1-0-news\" title=\"影／台南歸仁雜草野火！焦臭飄高雄  兩市環保合作\">影／台南歸仁雜草野火！焦臭飄高雄  兩市環保合作</a>,\n",
       " <a href=\"/news/story/7320/5076859?from=udn-ch1_breaknews-1-0-news\">台南市歸仁地區農田晚間起火，因吹北風，異味飄散到高雄地區，台南市環保局表示，消防人員已控制火勢，已請高市環保局對影響的區...</a>,\n",
       " <a aria-label=\"華府史密森尼動物園大貓熊 將延後3年再返中國\" class=\"story-list__image--holder\" href=\"/news/story/6813/5076817?from=udn-ch1_breaknews-1-0-news\"><picture><source data-srcset=\"https://pgw.udn.com.tw/gw/photo.php?u=https://uc.udn.com.tw/photo/2020/12/08/98/9216017.jpg&amp;s=Y&amp;x=0&amp;y=0&amp;sw=1280&amp;sh=853&amp;exp=3600&amp;w=300&amp;nt=1\" type=\"image/webp\"/><source data-srcset=\"https://pgw.udn.com.tw/gw/photo.php?u=https://uc.udn.com.tw/photo/2020/12/08/98/9216017.jpg&amp;s=Y&amp;x=0&amp;y=0&amp;sw=1280&amp;sh=853&amp;exp=3600&amp;w=300\" type=\"image/jpeg\"/><img alt=\"\" class=\"lazyload\" data-src=\"https://pgw.udn.com.tw/gw/photo.php?u=https://uc.udn.com.tw/photo/2020/12/08/98/9216017.jpg&amp;s=Y&amp;x=0&amp;y=0&amp;sw=1280&amp;sh=853&amp;exp=3600&amp;w=300\"/></picture></a>,\n",
       " <a href=\"/news/story/6813/5076817?from=udn-ch1_breaknews-1-0-news\" title=\"華府史密森尼動物園大貓熊 將延後3年再返中國\">華府史密森尼動物園大貓熊 將延後3年再返中國</a>,\n",
       " <a href=\"/news/story/6813/5076817?from=udn-ch1_breaknews-1-0-news\">美國華府史密森尼國家動物園（Smithsonian's National Zoo）今天表示，已與中國野生動物保育機構達成...</a>,\n",
       " <a aria-label=\"日本福井縣肝病死亡率全國最低 原來全靠這4種食物\" class=\"story-list__image--holder\" href=\"/news/story/6812/5076826?from=udn-ch1_breaknews-1-0-news\"><picture><source data-srcset=\"https://pgw.udn.com.tw/gw/photo.php?u=https://uc.udn.com.tw/photo/2020/12/08/1/9216016.jpg&amp;s=Y&amp;x=18&amp;y=20&amp;sw=984&amp;sh=656&amp;exp=3600&amp;w=300&amp;nt=1\" type=\"image/webp\"/><source data-srcset=\"https://pgw.udn.com.tw/gw/photo.php?u=https://uc.udn.com.tw/photo/2020/12/08/1/9216016.jpg&amp;s=Y&amp;x=18&amp;y=20&amp;sw=984&amp;sh=656&amp;exp=3600&amp;w=300\" type=\"image/jpeg\"/><img alt=\"\" class=\"lazyload\" data-src=\"https://pgw.udn.com.tw/gw/photo.php?u=https://uc.udn.com.tw/photo/2020/12/08/1/9216016.jpg&amp;s=Y&amp;x=18&amp;y=20&amp;sw=984&amp;sh=656&amp;exp=3600&amp;w=300\"/></picture></a>,\n",
       " <a href=\"/news/story/6812/5076826?from=udn-ch1_breaknews-1-0-news\" title=\"日本福井縣肝病死亡率全國最低 原來全靠這4種食物\">日本福井縣肝病死亡率全國最低 原來全靠這4種食物</a>,\n",
       " <a href=\"/news/story/6812/5076826?from=udn-ch1_breaknews-1-0-news\">熬夜、飲酒……這些壞習慣都對我們的肝臟構成嚴重傷害，常見的肝病包括肝炎、肝硬化、肝癌等等。日本有研究顯示，在全日本多個縣市之中，福井縣的肝病死亡率是最低的，有醫生就綜合出幾個原因，原來跟當地人的飲食習慣都有莫大關係！</a>,\n",
       " <a aria-label=\"娶日本公主能賺多少錢？日媒替真子未婚夫小室圭計算 百姓拒埋單\" class=\"story-list__image--holder\" href=\"/news/story/6812/5076796?from=udn-ch1_breaknews-1-0-news\"><picture><source data-srcset=\"https://pgw.udn.com.tw/gw/photo.php?u=https://uc.udn.com.tw/photo/2020/12/08/1/9215946.jpg&amp;s=Y&amp;x=12&amp;y=14&amp;sw=1258&amp;sh=839&amp;exp=3600&amp;w=300&amp;nt=1\" type=\"image/webp\"/><source data-srcset=\"https://pgw.udn.com.tw/gw/photo.php?u=https://uc.udn.com.tw/photo/2020/12/08/1/9215946.jpg&amp;s=Y&amp;x=12&amp;y=14&amp;sw=1258&amp;sh=839&amp;exp=3600&amp;w=300\" type=\"image/jpeg\"/><img alt=\"\" class=\"lazyload\" data-src=\"https://pgw.udn.com.tw/gw/photo.php?u=https://uc.udn.com.tw/photo/2020/12/08/1/9215946.jpg&amp;s=Y&amp;x=12&amp;y=14&amp;sw=1258&amp;sh=839&amp;exp=3600&amp;w=300\"/></picture></a>,\n",
       " <a href=\"/news/story/6812/5076796?from=udn-ch1_breaknews-1-0-news\" title=\"娶日本公主能賺多少錢？日媒替真子未婚夫小室圭計算 百姓拒埋單\">娶日本公主能賺多少錢？日媒替真子未婚夫小室圭計算 百姓拒埋單</a>,\n",
       " <a href=\"/news/story/6812/5076796?from=udn-ch1_breaknews-1-0-news\">2020年走到了末尾，在鄰國日本，除了疫情之外，這一陣子民眾討論度最高的事，莫過於公主真子的婚事了。從2017年9月宣布訂婚至今，這場皇家婚禮已經拖了足足三年。之所以這麼難，很多人都明白，主要原因在這位「準駙馬爺」小室圭身上黑點太多，母親是「老賴」，自己又沒工作。日本皇室對他不滿意，日本民眾對他也不滿意。但就在上個月底，文仁親王在55歲生日的記者發布會上說了這麼一句：「如果真子和小室圭真想結婚，我和妻子作為父母，會尊重孩子的想法。」對於女兒的婚事，文仁親王終於鬆口了，引起了日本全民新一輪大討論。</a>,\n",
       " <a aria-label=\"綠：國民黨超譯拜登談話  誤導視聽扯台灣後腿\" class=\"story-list__image--holder\" href=\"/news/story/6656/5076833?from=udn-ch1_breaknews-1-0-news\"><picture><source data-srcset=\"https://pgw.udn.com.tw/gw/photo.php?u=https://uc.udn.com.tw/photo/2020/09/23/1/8620890.jpg&amp;s=Y&amp;x=12&amp;y=10&amp;sw=1263&amp;sh=842&amp;exp=3600&amp;w=300&amp;nt=1\" type=\"image/webp\"/><source data-srcset=\"https://pgw.udn.com.tw/gw/photo.php?u=https://uc.udn.com.tw/photo/2020/09/23/1/8620890.jpg&amp;s=Y&amp;x=12&amp;y=10&amp;sw=1263&amp;sh=842&amp;exp=3600&amp;w=300\" type=\"image/jpeg\"/><img alt=\"\" class=\"lazyload\" data-src=\"https://pgw.udn.com.tw/gw/photo.php?u=https://uc.udn.com.tw/photo/2020/09/23/1/8620890.jpg&amp;s=Y&amp;x=12&amp;y=10&amp;sw=1263&amp;sh=842&amp;exp=3600&amp;w=300\"/></picture></a>,\n",
       " <a href=\"/news/story/6656/5076833?from=udn-ch1_breaknews-1-0-news\" title=\"綠：國民黨超譯拜登談話  誤導視聽扯台灣後腿\">綠：國民黨超譯拜登談話  誤導視聽扯台灣後腿</a>,\n",
       " <a href=\"/news/story/6656/5076833?from=udn-ch1_breaknews-1-0-news\">民進黨發言人顏若芳今天說，國民黨指蔡政府開放萊豬想換利遭美方打臉，但仔細檢視日前美國總統當選人拜登接受「紐約時報」專訪內...</a>,\n",
       " <a aria-label=\"咖啡買3杯多7杯 超商店員小動作恐涉業務侵占罪\" class=\"story-list__image--holder\" href=\"/news/story/7321/5076855?from=udn-ch1_breaknews-1-0-news\"><picture><source data-srcset=\"https://pgw.udn.com.tw/gw/photo.php?u=https://uc.udn.com.tw/photo/2020/12/08/realtime/9215999.jpg&amp;s=Y&amp;x=0&amp;y=14&amp;sw=870&amp;sh=580&amp;exp=3600&amp;w=300&amp;nt=1\" type=\"image/webp\"/><source data-srcset=\"https://pgw.udn.com.tw/gw/photo.php?u=https://uc.udn.com.tw/photo/2020/12/08/realtime/9215999.jpg&amp;s=Y&amp;x=0&amp;y=14&amp;sw=870&amp;sh=580&amp;exp=3600&amp;w=300\" type=\"image/jpeg\"/><img alt=\"\" class=\"lazyload\" data-src=\"https://pgw.udn.com.tw/gw/photo.php?u=https://uc.udn.com.tw/photo/2020/12/08/realtime/9215999.jpg&amp;s=Y&amp;x=0&amp;y=14&amp;sw=870&amp;sh=580&amp;exp=3600&amp;w=300\"/></picture></a>,\n",
       " <a href=\"/news/story/7321/5076855?from=udn-ch1_breaknews-1-0-news\" title=\"咖啡買3杯多7杯 超商店員小動作恐涉業務侵占罪\">咖啡買3杯多7杯 超商店員小動作恐涉業務侵占罪</a>,\n",
       " <a href=\"/news/story/7321/5076855?from=udn-ch1_breaknews-1-0-news\">雲林一名鄭姓女子昨晚在臉書發文，指稱其公公上午前往某醫院回診時，在院內便利商店購買3杯拿鐵，未料家人察覺結帳金額與實際金...</a>,\n",
       " <a aria-label=\"福灣二度發布致歉聲明！網路謾罵聲浪依舊高漲\" class=\"story-list__image--holder\" href=\"/news/story/7270/5076843?from=udn-ch1_breaknews-1-0-news\"><picture><source data-srcset=\"https://pgw.udn.com.tw/gw/photo.php?u=https://uc.udn.com.tw/photo/2020/12/08/realtime/9215971.jpg&amp;s=Y&amp;x=0&amp;y=22&amp;sw=1280&amp;sh=853&amp;exp=3600&amp;w=300&amp;nt=1\" type=\"image/webp\"/><source data-srcset=\"https://pgw.udn.com.tw/gw/photo.php?u=https://uc.udn.com.tw/photo/2020/12/08/realtime/9215971.jpg&amp;s=Y&amp;x=0&amp;y=22&amp;sw=1280&amp;sh=853&amp;exp=3600&amp;w=300\" type=\"image/jpeg\"/><img alt=\"\" class=\"lazyload\" data-src=\"https://pgw.udn.com.tw/gw/photo.php?u=https://uc.udn.com.tw/photo/2020/12/08/realtime/9215971.jpg&amp;s=Y&amp;x=0&amp;y=22&amp;sw=1280&amp;sh=853&amp;exp=3600&amp;w=300\"/></picture></a>,\n",
       " <a href=\"/news/story/7270/5076843?from=udn-ch1_breaknews-1-0-news\" title=\"福灣二度發布致歉聲明！網路謾罵聲浪依舊高漲\">福灣二度發布致歉聲明！網路謾罵聲浪依舊高漲</a>,\n",
       " <a href=\"/news/story/7270/5076843?from=udn-ch1_breaknews-1-0-news\">屏東知名「福灣巧克力」因2015年許姓董座涉嫌對女員工性騷擾，董座遭起訴後，其子許華仁還大罵女員工與媒體，又遭受害女員工...</a>,\n",
       " <a aria-label=\"印度南部爆發神秘不明疾病 已知1死400多人送醫\" class=\"story-list__image--holder\" href=\"/news/story/6809/5076789?from=udn-ch1_breaknews-1-0-news\"><picture><source data-srcset=\"https://pgw.udn.com.tw/gw/photo.php?u=https://uc.udn.com.tw/photo/2020/12/08/98/9215972.jpg&amp;s=Y&amp;x=91&amp;y=0&amp;sw=657&amp;sh=438&amp;exp=3600&amp;w=300&amp;nt=1\" type=\"image/webp\"/><source data-srcset=\"https://pgw.udn.com.tw/gw/photo.php?u=https://uc.udn.com.tw/photo/2020/12/08/98/9215972.jpg&amp;s=Y&amp;x=91&amp;y=0&amp;sw=657&amp;sh=438&amp;exp=3600&amp;w=300\" type=\"image/jpeg\"/><img alt=\"\" class=\"lazyload\" data-src=\"https://pgw.udn.com.tw/gw/photo.php?u=https://uc.udn.com.tw/photo/2020/12/08/98/9215972.jpg&amp;s=Y&amp;x=91&amp;y=0&amp;sw=657&amp;sh=438&amp;exp=3600&amp;w=300\"/></picture></a>,\n",
       " <a href=\"/news/story/6809/5076789?from=udn-ch1_breaknews-1-0-news\" title=\"印度南部爆發神秘不明疾病 已知1死400多人送醫\">印度南部爆發神秘不明疾病 已知1死400多人送醫</a>,\n",
       " <a href=\"/news/story/6809/5076789?from=udn-ch1_breaknews-1-0-news\">印度衛生部門高層官員7日晚間表示，印度南部爆發神祕不明傳染疾病，導致許多民眾癲癇發作及噁心想吐陷入昏迷，已知造成1人死亡...</a>,\n",
       " <a aria-label=\"【即時短評】大學審查學習歷程 公布多少資料才夠？\" class=\"story-list__image--holder\" href=\"/news/story/6925/5076841?from=udn-ch1_breaknews-1-0-news\"><picture><source data-srcset=\"https://pgw.udn.com.tw/gw/photo.php?u=https://uc.udn.com.tw/photo/2020/12/08/realtime/9215967.jpg&amp;s=Y&amp;x=20&amp;y=0&amp;sw=759&amp;sh=506&amp;exp=3600&amp;w=300&amp;nt=1\" type=\"image/webp\"/><source data-srcset=\"https://pgw.udn.com.tw/gw/photo.php?u=https://uc.udn.com.tw/photo/2020/12/08/realtime/9215967.jpg&amp;s=Y&amp;x=20&amp;y=0&amp;sw=759&amp;sh=506&amp;exp=3600&amp;w=300\" type=\"image/jpeg\"/><img alt=\"\" class=\"lazyload\" data-src=\"https://pgw.udn.com.tw/gw/photo.php?u=https://uc.udn.com.tw/photo/2020/12/08/realtime/9215967.jpg&amp;s=Y&amp;x=20&amp;y=0&amp;sw=759&amp;sh=506&amp;exp=3600&amp;w=300\"/></picture></a>,\n",
       " <a href=\"/news/story/6925/5076841?from=udn-ch1_breaknews-1-0-news\" title=\"【即時短評】大學審查學習歷程 公布多少資料才夠？\">【即時短評】大學審查學習歷程 公布多少資料才夠？</a>,\n",
       " <a href=\"/news/story/6925/5076841?from=udn-ch1_breaknews-1-0-news\">高中學習歷程檔案將占一定升學分數，「好學生」的定義變複雜了。108課綱上路一年多來，許多高中師生不只追求學測高分，還想看...</a>,\n",
       " <a aria-label=\"影／台南歸仁大片雜草火警 濃煙隨北風吹進高雄惹民怨\" class=\"story-list__image--holder\" href=\"/news/story/7320/5076837?from=udn-ch1_breaknews-1-0-news\"><picture><source data-srcset=\"https://pgw.udn.com.tw/gw/photo.php?u=https://uc.udn.com.tw/photo/2020/12/08/realtime/9215965.jpg&amp;s=Y&amp;x=0&amp;y=9&amp;sw=1279&amp;sh=852&amp;exp=3600&amp;w=300&amp;nt=1\" type=\"image/webp\"/><source data-srcset=\"https://pgw.udn.com.tw/gw/photo.php?u=https://uc.udn.com.tw/photo/2020/12/08/realtime/9215965.jpg&amp;s=Y&amp;x=0&amp;y=9&amp;sw=1279&amp;sh=852&amp;exp=3600&amp;w=300\" type=\"image/jpeg\"/><img alt=\"\" class=\"lazyload\" data-src=\"https://pgw.udn.com.tw/gw/photo.php?u=https://uc.udn.com.tw/photo/2020/12/08/realtime/9215965.jpg&amp;s=Y&amp;x=0&amp;y=9&amp;sw=1279&amp;sh=852&amp;exp=3600&amp;w=300\"/></picture></a>,\n",
       " <a href=\"/news/story/7320/5076837?from=udn-ch1_breaknews-1-0-news\" title=\"影／台南歸仁大片雜草火警 濃煙隨北風吹進高雄惹民怨\">影／台南歸仁大片雜草火警 濃煙隨北風吹進高雄惹民怨</a>,\n",
       " <a href=\"/news/story/7320/5076837?from=udn-ch1_breaknews-1-0-news\">台南市歸仁區納骨堂南側草地傍晚起火，火勢一路延燒3個多小時到晚上將近9點還在延燒，因為今晚吹北風，鄰近的高雄地區有民眾反...</a>]"
      ]
     },
     "execution_count": 4,
     "metadata": {},
     "output_type": "execute_result"
    }
   ],
   "source": [
    "data1"
   ]
  },
  {
   "cell_type": "code",
   "execution_count": 5,
   "metadata": {},
   "outputs": [],
   "source": [
    "for d in data1:\n",
    "    urls.append('https://udn.com'+d.get('href'))"
   ]
  },
  {
   "cell_type": "code",
   "execution_count": 6,
   "metadata": {},
   "outputs": [
    {
     "data": {
      "text/plain": [
       "['https://udn.com/news/story/120944/5076871?from=udn-ch1_breaknews-1-0-news',\n",
       " 'https://udn.com/news/story/120944/5076871?from=udn-ch1_breaknews-1-0-news',\n",
       " 'https://udn.com/news/story/120944/5076871?from=udn-ch1_breaknews-1-0-news',\n",
       " 'https://udn.com/news/story/7320/5076877?from=udn-ch1_breaknews-1-0-news',\n",
       " 'https://udn.com/news/story/7320/5076877?from=udn-ch1_breaknews-1-0-news',\n",
       " 'https://udn.com/news/story/7320/5076877?from=udn-ch1_breaknews-1-0-news',\n",
       " 'https://udn.com/news/story/120944/5076861?from=udn-ch1_breaknews-1-0-news',\n",
       " 'https://udn.com/news/story/120944/5076861?from=udn-ch1_breaknews-1-0-news',\n",
       " 'https://udn.com/news/story/120944/5076861?from=udn-ch1_breaknews-1-0-news',\n",
       " 'https://udn.com/news/story/7266/5076832?from=udn-ch1_breaknews-1-0-news',\n",
       " 'https://udn.com/news/story/7266/5076832?from=udn-ch1_breaknews-1-0-news',\n",
       " 'https://udn.com/news/story/7266/5076832?from=udn-ch1_breaknews-1-0-news',\n",
       " 'https://udn.com/news/story/6656/5076872?from=udn-ch1_breaknews-1-0-news',\n",
       " 'https://udn.com/news/story/6656/5076872?from=udn-ch1_breaknews-1-0-news',\n",
       " 'https://udn.com/news/story/6656/5076872?from=udn-ch1_breaknews-1-0-news',\n",
       " 'https://udn.com/news/story/121837/5076867?from=udn-ch1_breaknews-1-0-news',\n",
       " 'https://udn.com/news/story/121837/5076867?from=udn-ch1_breaknews-1-0-news',\n",
       " 'https://udn.com/news/story/121837/5076867?from=udn-ch1_breaknews-1-0-news',\n",
       " 'https://udn.com/news/story/6812/5076844?from=udn-ch1_breaknews-1-0-news',\n",
       " 'https://udn.com/news/story/6812/5076844?from=udn-ch1_breaknews-1-0-news',\n",
       " 'https://udn.com/news/story/6812/5076844?from=udn-ch1_breaknews-1-0-news',\n",
       " 'https://udn.com/news/story/6885/5076866?from=udn-ch1_breaknews-1-0-news',\n",
       " 'https://udn.com/news/story/6885/5076866?from=udn-ch1_breaknews-1-0-news',\n",
       " 'https://udn.com/news/story/6885/5076866?from=udn-ch1_breaknews-1-0-news',\n",
       " 'https://udn.com/news/story/7002/5076865?from=udn-ch1_breaknews-1-0-news',\n",
       " 'https://udn.com/news/story/7002/5076865?from=udn-ch1_breaknews-1-0-news',\n",
       " 'https://udn.com/news/story/7002/5076865?from=udn-ch1_breaknews-1-0-news',\n",
       " 'https://udn.com/news/story/7321/5076864?from=udn-ch1_breaknews-1-0-news',\n",
       " 'https://udn.com/news/story/7321/5076864?from=udn-ch1_breaknews-1-0-news',\n",
       " 'https://udn.com/news/story/7321/5076864?from=udn-ch1_breaknews-1-0-news',\n",
       " 'https://udn.com/news/story/7320/5076859?from=udn-ch1_breaknews-1-0-news',\n",
       " 'https://udn.com/news/story/7320/5076859?from=udn-ch1_breaknews-1-0-news',\n",
       " 'https://udn.com/news/story/7320/5076859?from=udn-ch1_breaknews-1-0-news',\n",
       " 'https://udn.com/news/story/6813/5076817?from=udn-ch1_breaknews-1-0-news',\n",
       " 'https://udn.com/news/story/6813/5076817?from=udn-ch1_breaknews-1-0-news',\n",
       " 'https://udn.com/news/story/6813/5076817?from=udn-ch1_breaknews-1-0-news',\n",
       " 'https://udn.com/news/story/6812/5076826?from=udn-ch1_breaknews-1-0-news',\n",
       " 'https://udn.com/news/story/6812/5076826?from=udn-ch1_breaknews-1-0-news',\n",
       " 'https://udn.com/news/story/6812/5076826?from=udn-ch1_breaknews-1-0-news',\n",
       " 'https://udn.com/news/story/6812/5076796?from=udn-ch1_breaknews-1-0-news',\n",
       " 'https://udn.com/news/story/6812/5076796?from=udn-ch1_breaknews-1-0-news',\n",
       " 'https://udn.com/news/story/6812/5076796?from=udn-ch1_breaknews-1-0-news',\n",
       " 'https://udn.com/news/story/6656/5076833?from=udn-ch1_breaknews-1-0-news',\n",
       " 'https://udn.com/news/story/6656/5076833?from=udn-ch1_breaknews-1-0-news',\n",
       " 'https://udn.com/news/story/6656/5076833?from=udn-ch1_breaknews-1-0-news',\n",
       " 'https://udn.com/news/story/7321/5076855?from=udn-ch1_breaknews-1-0-news',\n",
       " 'https://udn.com/news/story/7321/5076855?from=udn-ch1_breaknews-1-0-news',\n",
       " 'https://udn.com/news/story/7321/5076855?from=udn-ch1_breaknews-1-0-news',\n",
       " 'https://udn.com/news/story/7270/5076843?from=udn-ch1_breaknews-1-0-news',\n",
       " 'https://udn.com/news/story/7270/5076843?from=udn-ch1_breaknews-1-0-news',\n",
       " 'https://udn.com/news/story/7270/5076843?from=udn-ch1_breaknews-1-0-news',\n",
       " 'https://udn.com/news/story/6809/5076789?from=udn-ch1_breaknews-1-0-news',\n",
       " 'https://udn.com/news/story/6809/5076789?from=udn-ch1_breaknews-1-0-news',\n",
       " 'https://udn.com/news/story/6809/5076789?from=udn-ch1_breaknews-1-0-news',\n",
       " 'https://udn.com/news/story/6925/5076841?from=udn-ch1_breaknews-1-0-news',\n",
       " 'https://udn.com/news/story/6925/5076841?from=udn-ch1_breaknews-1-0-news',\n",
       " 'https://udn.com/news/story/6925/5076841?from=udn-ch1_breaknews-1-0-news',\n",
       " 'https://udn.com/news/story/7320/5076837?from=udn-ch1_breaknews-1-0-news',\n",
       " 'https://udn.com/news/story/7320/5076837?from=udn-ch1_breaknews-1-0-news',\n",
       " 'https://udn.com/news/story/7320/5076837?from=udn-ch1_breaknews-1-0-news']"
      ]
     },
     "execution_count": 6,
     "metadata": {},
     "output_type": "execute_result"
    }
   ],
   "source": [
    "urls"
   ]
  },
  {
   "cell_type": "code",
   "execution_count": 7,
   "metadata": {},
   "outputs": [],
   "source": [
    "urls = urls[0::3]"
   ]
  },
  {
   "cell_type": "code",
   "execution_count": 8,
   "metadata": {
    "scrolled": true
   },
   "outputs": [
    {
     "data": {
      "text/plain": [
       "['https://udn.com/news/story/120944/5076871?from=udn-ch1_breaknews-1-0-news',\n",
       " 'https://udn.com/news/story/7320/5076877?from=udn-ch1_breaknews-1-0-news',\n",
       " 'https://udn.com/news/story/120944/5076861?from=udn-ch1_breaknews-1-0-news',\n",
       " 'https://udn.com/news/story/7266/5076832?from=udn-ch1_breaknews-1-0-news',\n",
       " 'https://udn.com/news/story/6656/5076872?from=udn-ch1_breaknews-1-0-news',\n",
       " 'https://udn.com/news/story/121837/5076867?from=udn-ch1_breaknews-1-0-news',\n",
       " 'https://udn.com/news/story/6812/5076844?from=udn-ch1_breaknews-1-0-news',\n",
       " 'https://udn.com/news/story/6885/5076866?from=udn-ch1_breaknews-1-0-news',\n",
       " 'https://udn.com/news/story/7002/5076865?from=udn-ch1_breaknews-1-0-news',\n",
       " 'https://udn.com/news/story/7321/5076864?from=udn-ch1_breaknews-1-0-news',\n",
       " 'https://udn.com/news/story/7320/5076859?from=udn-ch1_breaknews-1-0-news',\n",
       " 'https://udn.com/news/story/6813/5076817?from=udn-ch1_breaknews-1-0-news',\n",
       " 'https://udn.com/news/story/6812/5076826?from=udn-ch1_breaknews-1-0-news',\n",
       " 'https://udn.com/news/story/6812/5076796?from=udn-ch1_breaknews-1-0-news',\n",
       " 'https://udn.com/news/story/6656/5076833?from=udn-ch1_breaknews-1-0-news',\n",
       " 'https://udn.com/news/story/7321/5076855?from=udn-ch1_breaknews-1-0-news',\n",
       " 'https://udn.com/news/story/7270/5076843?from=udn-ch1_breaknews-1-0-news',\n",
       " 'https://udn.com/news/story/6809/5076789?from=udn-ch1_breaknews-1-0-news',\n",
       " 'https://udn.com/news/story/6925/5076841?from=udn-ch1_breaknews-1-0-news',\n",
       " 'https://udn.com/news/story/7320/5076837?from=udn-ch1_breaknews-1-0-news']"
      ]
     },
     "execution_count": 8,
     "metadata": {},
     "output_type": "execute_result"
    }
   ],
   "source": [
    "urls"
   ]
  },
  {
   "cell_type": "code",
   "execution_count": null,
   "metadata": {},
   "outputs": [
    {
     "name": "stdout",
     "output_type": "stream",
     "text": [
      "處理第1則新聞\n",
      "處理第2則新聞\n",
      "處理第3則新聞\n",
      "處理第4則新聞\n",
      "處理第5則新聞\n",
      "處理第6則新聞\n",
      "處理第7則新聞\n",
      "處理第8則新聞\n",
      "處理第9則新聞\n",
      "處理第10則新聞\n"
     ]
    }
   ],
   "source": [
    "text_news = ''\n",
    "i = 1\n",
    "for url in urls:\n",
    "    html = requests.get(url)\n",
    "    sp = soup(html.text, 'html.parser')\n",
    "    #搜尋網頁中符合指定的HTML標籤及css屬性值的所有節點\n",
    "    data1 = sp.find_all(class_ = \"article-content__paragraph\")\n",
    "    print('處理第{}則新聞'.format(i))\n",
    "    for d in data1:\n",
    "        if d.text.find('延伸閱讀')!=-1:\n",
    "            break\n",
    "        if d.text != '':\n",
    "            text_news += d.text\n",
    "    i += 1"
   ]
  },
  {
   "cell_type": "code",
   "execution_count": null,
   "metadata": {},
   "outputs": [],
   "source": [
    "text_news"
   ]
  },
  {
   "cell_type": "code",
   "execution_count": null,
   "metadata": {},
   "outputs": [],
   "source": []
  },
  {
   "cell_type": "code",
   "execution_count": null,
   "metadata": {},
   "outputs": [],
   "source": [
    "stops = []\n",
    "with open('../week5/jieba_dictionary/stopwords.txt','r',encoding='utf-8') as file:\n",
    "    for line in file.readlines():\n",
    "        stops.append(line.strip())\n"
   ]
  },
  {
   "cell_type": "markdown",
   "metadata": {},
   "source": [
    "# 文章自動摘要"
   ]
  },
  {
   "cell_type": "code",
   "execution_count": null,
   "metadata": {},
   "outputs": [],
   "source": [
    "import summary as ausu"
   ]
  },
  {
   "cell_type": "markdown",
   "metadata": {},
   "source": [
    "### 原理: 建立一個計算句子權重的函式，此函式包含關鍵詞數量、句子位置及句子相似度，計算文章中所有句子的權重，然後遞減排序，擷取使用者指定的句子數量，最後依據它們在原文中的先後順序再次進行排序輸出。"
   ]
  },
  {
   "cell_type": "markdown",
   "metadata": {},
   "source": [
    "### tf-idf (term frequency - inverse document frequency):一種於資訊檢索與文字挖掘的常用加權技術。用以評估一個字詞對於一個檔案的重要程度。字詞的重要性會隨著它在檔案中出現的次數成正比增加"
   ]
  },
  {
   "cell_type": "markdown",
   "metadata": {},
   "source": [
    "### summary模組包含下列方法\n",
    "* split_sentence(text,punctuation_list='!?。！？')\n",
    "* get_tfidf_matrix(sentence_set,stop_word)\n",
    "* get_sentence_with_words_weight(tfidf_matrix)\n",
    "* get_sentence_with_position_weight(sentence_set)\n",
    "* get_similarity_weight(tfidf_matrix)\n",
    "* ranking_base_on_wieght(sentence_with_words_weight,sentence_with_position_weight,sentence_score,feature_weight=[1,1,1])\n",
    "* get_summarization(sentence_with_index,sort_sent_weight,topK_ratio=0.3)"
   ]
  },
  {
   "cell_type": "code",
   "execution_count": null,
   "metadata": {},
   "outputs": [],
   "source": [
    "stops = []\n",
    "with open('../week5/jieba_dictionary/stopwords.txt','r',encoding='utf-8') as file:\n",
    "    for line in file.readlines():\n",
    "        stops.append(line.strip())\n",
    "\n",
    "import summary as ausu\n",
    "text_news = ''\n",
    "i = 1\n",
    "for url in urls[0:5]:\n",
    "    html = requests.get(url)\n",
    "    sp = soup(html.text, 'html.parser')\n",
    "    #搜尋網頁中符合指定的HTML標籤及css屬性值的所有節點\n",
    "    data1 = sp.find_all(class_ = \"article-content__paragraph\")\n",
    "    print('處理第{}則新聞'.format(i))\n",
    "    for d in data1:\n",
    "        if d.text.find('延伸閱讀')!=-1:\n",
    "            break\n",
    "        if d.text != '':\n",
    "            text_news += d.text\n",
    "    sentences, indexs = ausu.split_sentence(text_news)\n",
    "    tfidf = ausu.get_tfidf_matrix(sentences, stops)\n",
    "    word_weight = ausu.get_sentence_with_words_weight(tfidf)\n",
    "    posi_weight = ausu.get_sentence_with_position_weight(sentences)\n",
    "    scores = ausu.get_similarity_weight(tfidf)\n",
    "    sort_weight = ausu.ranking_base_on_weight(word_weight,posi_weight,scores,feature_weight = [1,1,1])\n",
    "    summar = ausu.get_summarization(indexs,sort_weight,topK_ratio=0.1) #取得摘要\n",
    "    print('原文:\\n',text_news)\n",
    "    print('------------------------')\n",
    "    print('摘要:\\n',summar)\n",
    "    print('=============================================')\n",
    "    i += 1"
   ]
  },
  {
   "cell_type": "code",
   "execution_count": null,
   "metadata": {},
   "outputs": [],
   "source": [
    "sentences, indexs"
   ]
  },
  {
   "cell_type": "code",
   "execution_count": null,
   "metadata": {},
   "outputs": [],
   "source": []
  },
  {
   "cell_type": "code",
   "execution_count": null,
   "metadata": {},
   "outputs": [],
   "source": []
  },
  {
   "cell_type": "code",
   "execution_count": null,
   "metadata": {},
   "outputs": [],
   "source": [
    "# 下載 繁體中文詞庫  https://raw.githubusercontent.com/fxsjy/jieba/master/extra_dict/dict.txt.big\n",
    "jieba.set_dictionary('./jieba_dictionary/dict.txt.big')\n",
    "# 修改中文詞典，讓斷詞更聰明\n",
    "with open('jieba_dictionary/stopwords.txt','r',encoding='utf-8') as file:\n",
    "    stops = file.read().split('\\n')\n",
    "print('停用詞:'+'/'.join(stops))\n",
    "terms  = []\n",
    "for t in jieba.cut(text_news, cut_all = False):\n",
    "    if t not in stops and t!='\\n' and t!='\\r\\n':\n",
    "        terms.append(t)\n",
    "diction = Counter(terms)"
   ]
  },
  {
   "cell_type": "code",
   "execution_count": null,
   "metadata": {},
   "outputs": [],
   "source": [
    "terms"
   ]
  },
  {
   "cell_type": "code",
   "execution_count": null,
   "metadata": {},
   "outputs": [],
   "source": [
    "import imageio\n",
    "back_color = imageio.imread('Taiwan.jpg')\n",
    "\n",
    "unioncloud = WordCloud(\n",
    "  background_color='white',        #   背景顏色\n",
    "  max_words=200,                   #   最大分詞數量\n",
    "  mask=back_color,                       #   背景圖片\n",
    "  max_font_size=None,              #   顯示字體的最大值\n",
    "  #stopwords=STOPWORDS.add(word),   #   使用內置的屏蔽詞，再添加一個\n",
    "  font_path='./font/KAIU.ttc',             #   若為中文則需引入中文字型(.TTF)\n",
    "  random_state=None,               #   隨機碼生成各分詞顏色\n",
    "  prefer_horizontal=0.5)           #   調整分詞中水平和垂直的比例"
   ]
  },
  {
   "cell_type": "code",
   "execution_count": null,
   "metadata": {},
   "outputs": [],
   "source": [
    "unioncloud.generate_from_frequencies(frequencies=diction) "
   ]
  },
  {
   "cell_type": "code",
   "execution_count": null,
   "metadata": {},
   "outputs": [],
   "source": [
    "import matplotlib.pyplot as plt\n",
    "#plt.rcParams['font.sans-serif'] = ['Microsoft JhengHei'] \n",
    "plt.figure(figsize=(14,10))\n",
    "plt.imshow(unioncloud)\n",
    "plt.axis(\"off\")\n",
    "plt.show()"
   ]
  },
  {
   "cell_type": "code",
   "execution_count": null,
   "metadata": {},
   "outputs": [],
   "source": []
  }
 ],
 "metadata": {
  "kernelspec": {
   "display_name": "Python 3",
   "language": "python",
   "name": "python3"
  },
  "language_info": {
   "codemirror_mode": {
    "name": "ipython",
    "version": 3
   },
   "file_extension": ".py",
   "mimetype": "text/x-python",
   "name": "python",
   "nbconvert_exporter": "python",
   "pygments_lexer": "ipython3",
   "version": "3.8.5"
  },
  "varInspector": {
   "cols": {
    "lenName": 16,
    "lenType": 16,
    "lenVar": 40
   },
   "kernels_config": {
    "python": {
     "delete_cmd_postfix": "",
     "delete_cmd_prefix": "del ",
     "library": "var_list.py",
     "varRefreshCmd": "print(var_dic_list())"
    },
    "r": {
     "delete_cmd_postfix": ") ",
     "delete_cmd_prefix": "rm(",
     "library": "var_list.r",
     "varRefreshCmd": "cat(var_dic_list()) "
    }
   },
   "types_to_exclude": [
    "module",
    "function",
    "builtin_function_or_method",
    "instance",
    "_Feature"
   ],
   "window_display": false
  }
 },
 "nbformat": 4,
 "nbformat_minor": 4
}
